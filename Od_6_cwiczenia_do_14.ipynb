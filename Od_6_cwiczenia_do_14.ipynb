{
  "nbformat": 4,
  "nbformat_minor": 0,
  "metadata": {
    "colab": {
      "name": "Od_6_cwiczenia_do_14.ipynb",
      "provenance": [],
      "collapsed_sections": [],
      "authorship_tag": "ABX9TyMrTmXOJfCL2d0PaR9FJ53R",
      "include_colab_link": true
    },
    "kernelspec": {
      "name": "python3",
      "display_name": "Python 3"
    },
    "language_info": {
      "name": "python"
    }
  },
  "cells": [
    {
      "cell_type": "markdown",
      "metadata": {
        "id": "view-in-github",
        "colab_type": "text"
      },
      "source": [
        "<a href=\"https://colab.research.google.com/github/adamstelmaszyk/GoogleColab/blob/main/Od_6_cwiczenia_do_14.ipynb\" target=\"_parent\"><img src=\"https://colab.research.google.com/assets/colab-badge.svg\" alt=\"Open In Colab\"/></a>"
      ]
    },
    {
      "cell_type": "code",
      "metadata": {
        "colab": {
          "base_uri": "https://localhost:8080/"
        },
        "id": "yRxxeVgGgkis",
        "outputId": "c36c07d9-d8b4-4b71-a32c-4642c6718ad0"
      },
      "source": [
        "cena = 34.99\n",
        "waga = 10\n",
        "print('Cena: {} PLN za {} kg'.format(cena,waga))"
      ],
      "execution_count": 1,
      "outputs": [
        {
          "output_type": "stream",
          "text": [
            "Cena: 34.99 PLN za 10 kg\n"
          ],
          "name": "stdout"
        }
      ]
    },
    {
      "cell_type": "code",
      "metadata": {
        "colab": {
          "base_uri": "https://localhost:8080/"
        },
        "id": "Zovwg4ptg80Z",
        "outputId": "9d9eae24-b603-4ad2-a967-a91b27f407af"
      },
      "source": [
        "pi = 3.1415926535\n",
        "print(f'Przybliżenie liczby pi: {pi:.2f}')"
      ],
      "execution_count": 4,
      "outputs": [
        {
          "output_type": "stream",
          "text": [
            "Przybliżenie liczby pi: 3.14\n"
          ],
          "name": "stdout"
        }
      ]
    },
    {
      "cell_type": "code",
      "metadata": {
        "colab": {
          "base_uri": "https://localhost:8080/"
        },
        "id": "s8aTZwwLt2sE",
        "outputId": "55b5f7b2-90fa-4635-84c2-e26630a71d14"
      },
      "source": [
        "print('='*40)\n",
        "print('author: Adams')\n",
        "print('data: 24-05-2021')\n",
        "print('='*40)"
      ],
      "execution_count": 6,
      "outputs": [
        {
          "output_type": "stream",
          "text": [
            "========================================\n",
            "author: Adams\n",
            "data: 24-05-2021\n",
            "========================================\n"
          ],
          "name": "stdout"
        }
      ]
    },
    {
      "cell_type": "code",
      "metadata": {
        "colab": {
          "base_uri": "https://localhost:8080/"
        },
        "id": "MOCCKChQt_XT",
        "outputId": "45d515d4-8065-4edf-bf44-041d37944379"
      },
      "source": [
        "print('summer','time','YEAH',sep='#')"
      ],
      "execution_count": 7,
      "outputs": [
        {
          "output_type": "stream",
          "text": [
            "summer#time#YEAH\n"
          ],
          "name": "stdout"
        }
      ]
    },
    {
      "cell_type": "code",
      "metadata": {
        "colab": {
          "base_uri": "https://localhost:8080/"
        },
        "id": "BE0pLZTXuMID",
        "outputId": "cc160887-9fcf-45c6-9f41-f077a8bfe867"
      },
      "source": [
        "pi = 3.1415\n",
        "r = int(input('Podaj promień koła: '))\n",
        "print('Pole koła o promieniu {} wynosi {:.1f}'.format(r,pi*r**2))"
      ],
      "execution_count": 14,
      "outputs": [
        {
          "output_type": "stream",
          "text": [
            "Podaj promień koła: 6\n",
            "Pole koła o promieniu 6 wynosi 113.1\n"
          ],
          "name": "stdout"
        }
      ]
    },
    {
      "cell_type": "code",
      "metadata": {
        "colab": {
          "base_uri": "https://localhost:8080/"
        },
        "id": "v_K8YegNufx3",
        "outputId": "2a211783-19fd-4f33-e68a-b3d203cb57bf"
      },
      "source": [
        "kwota = 1000\n",
        "procent = 4\n",
        "n = 5\n",
        "\n",
        "kwota = 1000*(1+procent/100)**n\n",
        "print('Po {} latach kwota będzie wynosić {:.2f}'.format(n,kwota))"
      ],
      "execution_count": 15,
      "outputs": [
        {
          "output_type": "stream",
          "text": [
            "Po 5 latach kwota będzie wynosić 1216.65\n"
          ],
          "name": "stdout"
        }
      ]
    },
    {
      "cell_type": "code",
      "metadata": {
        "colab": {
          "base_uri": "https://localhost:8080/"
        },
        "id": "XE1DvReRvgt3",
        "outputId": "011a2230-edb4-4425-f5da-cf4d90f55eab"
      },
      "source": [
        "import math\n",
        "def rozwiazanie(a,b=0,c=0):\n",
        "  if(a==0 and b==0 and c==0):\n",
        "    return 'Nieskończenie wiele rozwiązań'\n",
        "  elif (a==0 and b==0 and c!=0):\n",
        "    return 'Równanie sprzeczne'\n",
        "  elif (a == 0 and b!=0 and c!=0):\n",
        "    return -c/b\n",
        "  else:\n",
        "    delta = b**2 - 4*a*c\n",
        "    if (delta < 0 ):\n",
        "      return 'Brak rozwiązań'\n",
        "    elif (delta == 0):\n",
        "      return -b/(2*a)\n",
        "    else:\n",
        "      return ( (-b - math.sqrt(delta)/(2*a) ), (-b + math.sqrt(delta)/(2*a) ))\n",
        "\n",
        "print('Podaj współczynniki liczbowe równania kwadratowego')\n",
        "a = int(input('a = '))\n",
        "b = int(input('b = '))\n",
        "c = int(input('c = '))\n",
        "print(rozwiazanie(a,b,c))"
      ],
      "execution_count": 21,
      "outputs": [
        {
          "output_type": "stream",
          "text": [
            "Podaj współczynniki liczbowe równania kwadratowego\n",
            "a = 0\n",
            "b = 0\n",
            "c = 1\n",
            "Równanie sprzeczne\n"
          ],
          "name": "stdout"
        }
      ]
    },
    {
      "cell_type": "code",
      "metadata": {
        "id": "XXDlxtw2xR-x"
      },
      "source": [
        ""
      ],
      "execution_count": null,
      "outputs": []
    }
  ]
}