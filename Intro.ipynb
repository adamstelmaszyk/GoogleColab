{
  "nbformat": 4,
  "nbformat_minor": 0,
  "metadata": {
    "colab": {
      "name": "Intro.ipynb",
      "provenance": [],
      "collapsed_sections": [],
      "authorship_tag": "ABX9TyMbMDq0yANvVLivLd5Pk55q",
      "include_colab_link": true
    },
    "kernelspec": {
      "name": "python3",
      "display_name": "Python 3"
    },
    "language_info": {
      "name": "python"
    }
  },
  "cells": [
    {
      "cell_type": "markdown",
      "metadata": {
        "id": "view-in-github",
        "colab_type": "text"
      },
      "source": [
        "<a href=\"https://colab.research.google.com/github/adamstelmaszyk/GoogleColab/blob/main/Intro.ipynb\" target=\"_parent\"><img src=\"https://colab.research.google.com/assets/colab-badge.svg\" alt=\"Open In Colab\"/></a>"
      ]
    },
    {
      "cell_type": "code",
      "metadata": {
        "colab": {
          "base_uri": "https://localhost:8080/"
        },
        "id": "3gHqytpNSHZL",
        "outputId": "5f3e1fb4-3e69-4d6c-d36a-8a7b22855de5"
      },
      "source": [
        "print('Ucz się Pythona')"
      ],
      "execution_count": 2,
      "outputs": [
        {
          "output_type": "stream",
          "text": [
            "Ucz się Pythona\n"
          ],
          "name": "stdout"
        }
      ]
    },
    {
      "cell_type": "code",
      "metadata": {
        "colab": {
          "base_uri": "https://localhost:8080/"
        },
        "id": "aKDnz7o9ScxI",
        "outputId": "e28ff18f-5f59-48f8-8b66-726d7dc1b87d"
      },
      "source": [
        "age = 20\n",
        "print('Mam',age,'lat')"
      ],
      "execution_count": 3,
      "outputs": [
        {
          "output_type": "stream",
          "text": [
            "Mam 20 lat\n"
          ],
          "name": "stdout"
        }
      ]
    },
    {
      "cell_type": "code",
      "metadata": {
        "colab": {
          "base_uri": "https://localhost:8080/"
        },
        "id": "Hsho5HOFfkLw",
        "outputId": "b0facfd5-5e8d-4f85-a0ae-5990be96d905"
      },
      "source": [
        "print(f'Mam {age} lat')"
      ],
      "execution_count": 4,
      "outputs": [
        {
          "output_type": "stream",
          "text": [
            "Mam 20 lat\n"
          ],
          "name": "stdout"
        }
      ]
    },
    {
      "cell_type": "code",
      "metadata": {
        "colab": {
          "base_uri": "https://localhost:8080/"
        },
        "id": "LPTLbhBWfow3",
        "outputId": "82ee56ce-ee94-4211-902b-23f03c33a4fa"
      },
      "source": [
        "print('Mam {} lat'.format(age))"
      ],
      "execution_count": 5,
      "outputs": [
        {
          "output_type": "stream",
          "text": [
            "Mam 20 lat\n"
          ],
          "name": "stdout"
        }
      ]
    },
    {
      "cell_type": "code",
      "metadata": {
        "colab": {
          "base_uri": "https://localhost:8080/"
        },
        "id": "kfFF6cWDfswy",
        "outputId": "108f8585-97ae-40e2-9b15-e3995983b02e"
      },
      "source": [
        "lang = 'Python'\n",
        "ver = 3.8\n",
        "print('Ucz się języka {} w wersji {}'.format(lang,ver))"
      ],
      "execution_count": 8,
      "outputs": [
        {
          "output_type": "stream",
          "text": [
            "Ucz się języka Python w wersji 3.8\n"
          ],
          "name": "stdout"
        }
      ]
    },
    {
      "cell_type": "code",
      "metadata": {
        "colab": {
          "base_uri": "https://localhost:8080/"
        },
        "id": "O6L6iOHff8Ez",
        "outputId": "92797382-7193-4e96-941b-1c067a014a5b"
      },
      "source": [
        "price = 199.99\n",
        "print('Towar kosztuje {}'.format(price))"
      ],
      "execution_count": 9,
      "outputs": [
        {
          "output_type": "stream",
          "text": [
            "Towar kosztuje 199.99\n"
          ],
          "name": "stdout"
        }
      ]
    },
    {
      "cell_type": "code",
      "metadata": {
        "id": "5nunM8T6gMu2"
      },
      "source": [
        ""
      ],
      "execution_count": null,
      "outputs": []
    }
  ]
}